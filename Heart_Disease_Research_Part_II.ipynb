{
 "cells": [
  {
   "cell_type": "markdown",
   "id": "037a8859",
   "metadata": {},
   "source": [
    "## Heart Disease Research Part II\n",
    "\n",
    "In this project, you’ll investigate some data from a sample patients who were evaluated for heart disease at the Cleveland Clinic Foundation. The data was downloaded from the UCI Machine Learning Repository and then cleaned for analysis. The principal investigators responsible for data collection were:\n",
    "\n",
    "1. Hungarian Institute of Cardiology. Budapest: Andras Janosi, M.D.\n",
    "2. University Hospital, Zurich, Switzerland: William Steinbrunn, M.D.\n",
    "3. University Hospital, Basel, Switzerland: Matthias Pfisterer, M.D.\n",
    "4. V.A. Medical Center, Long Beach and Cleveland Clinic Foundation: Robert Detrano, M.D., Ph.D."
   ]
  },
  {
   "cell_type": "markdown",
   "id": "ea7cd43c",
   "metadata": {},
   "source": [
    "#### Inspect the Data\n",
    "1.\n",
    "The data has been saved as a dataframe named heart. It contains the following variables:\n",
    "\n",
    "* age: age in years\n",
    "* sex: sex assigned at birth; 'male' or 'female'\n",
    "* trestbps: resting blood pressure in mm Hg\n",
    "* chol: serum cholesterol in mg/dl\n",
    "* cp: chest pain type ('typical angina', 'atypical angina', 'non-anginal pain', or 'asymptomatic')\n",
    "* exang: whether the patient experiences exercise-induced angina (1: yes; 0: no)\n",
    "* fbs: whether the patient’s fasting blood sugar is >120 mg/dl (1: yes; 0: no)\n",
    "* thalach: maximum heart rate achieved in exercise test\n",
    "* heart_disease: whether the patient is found to have heart disease ('presence': diagnosed with heart disease; 'absence': no heart disease)\n"
   ]
  },
  {
   "cell_type": "code",
   "execution_count": 5,
   "id": "2f862fc2",
   "metadata": {},
   "outputs": [
    {
     "name": "stdout",
     "output_type": "stream",
     "text": [
      "    age     sex  trestbps   chol                cp  exang  fbs  thalach  \\\n",
      "0  63.0    male     145.0  233.0    typical angina    0.0  1.0    150.0   \n",
      "1  67.0    male     160.0  286.0      asymptomatic    1.0  0.0    108.0   \n",
      "2  67.0    male     120.0  229.0      asymptomatic    1.0  0.0    129.0   \n",
      "3  37.0    male     130.0  250.0  non-anginal pain    0.0  0.0    187.0   \n",
      "4  41.0  female     130.0  204.0   atypical angina    0.0  0.0    172.0   \n",
      "\n",
      "  heart_disease  \n",
      "0       absence  \n",
      "1      presence  \n",
      "2      presence  \n",
      "3       absence  \n",
      "4       absence  \n"
     ]
    }
   ],
   "source": [
    "# import libraries\n",
    "import pandas as pd\n",
    "import numpy as np\n",
    "import matplotlib.pyplot as plt \n",
    "import seaborn as sns\n",
    "\n",
    "# load data\n",
    "heart = pd.read_csv('heart_disease.csv')\n",
    "\n",
    "#1\n",
    "print(heart.head())"
   ]
  },
  {
   "cell_type": "markdown",
   "id": "c3295a18",
   "metadata": {},
   "source": [
    "#### Predictors of Heart Disease\n",
    "\n",
    "2.\n",
    "Each of the patients in this dataset underwent an exercise test, during which their heart rate was monitored. For each patient, thalach gives us the highest heart rate that the patient achieved during this test.\n",
    "\n",
    "Is thalach associated with whether or not a patient will ultimately be diagnosed with heart disease? Use sns.boxplot() to plot side by side box plots of thalach for patients who were and were not diagnosed with heart disease (indicated by the heart_disease variable). Do you think there is a relationship between these variables?"
   ]
  },
  {
   "cell_type": "code",
   "execution_count": 6,
   "id": "cb1d5e17",
   "metadata": {},
   "outputs": [
    {
     "data": {
      "image/png": "[encoded data removed]",
      "text/plain": [
       "<Figure size 432x288 with 1 Axes>"
      ]
     },
     "metadata": {
      "needs_background": "light"
     },
     "output_type": "display_data"
    },
    {
     "name": "stdout",
     "output_type": "stream",
     "text": [
      "Visually it appears that heart disease presence associated with lower max heart rate while exercising.\n"
     ]
    },
    {
     "data": {
      "text/plain": [
       "<Figure size 432x288 with 0 Axes>"
      ]
     },
     "metadata": {},
     "output_type": "display_data"
    }
   ],
   "source": [
    "#2 Max heart rate while exercising (thalach) analysis\n",
    "sns.boxplot(x='heart_disease', y='thalach', data=heart)\n",
    "plt.xlabel('Heart Disease condition')\n",
    "plt.ylabel('Max heart rate while exercising')\n",
    "plt.title('Max rate vs Heart Disease')\n",
    "plt.show()\n",
    "plt.clf()\n",
    "\n",
    "print(\"Visually it appears that heart disease presence associated with lower max heart rate while exercising.\")\n"
   ]
  },
  {
   "cell_type": "markdown",
   "id": "cc1712a6",
   "metadata": {},
   "source": [
    "3. In order to investigate this question further, save the values for thalach among patients who were diagnosed with heart disease as a variable named thalach_hd. Then save the values of thalach among patients who were not diagnosed with heart disease as thalach_no_hd."
   ]
  },
  {
   "cell_type": "code",
   "execution_count": 7,
   "id": "3addf03b",
   "metadata": {},
   "outputs": [],
   "source": [
    "#3 Making dfs absence and presence \n",
    "yes_hd = heart[heart.heart_disease == 'presence']\n",
    "no_hd = heart[heart.heart_disease == 'absence']\n",
    "thalach_hd = yes_hd.thalach\n",
    "thalach_no_hd = no_hd.thalach"
   ]
  },
  {
   "cell_type": "markdown",
   "id": "4cd1c1e7",
   "metadata": {},
   "source": [
    "4. Calculate and print the difference in mean thalach for patients diagnosed with heart disease compared to patients without heart disease. Then do the same for the median difference."
   ]
  },
  {
   "cell_type": "code",
   "execution_count": 8,
   "id": "555fb69c",
   "metadata": {},
   "outputs": [
    {
     "name": "stdout",
     "output_type": "stream",
     "text": [
      "139.25899280575538 158.3780487804878 -19.11905597473242\n",
      "142.0 161.0 -19.0\n"
     ]
    }
   ],
   "source": [
    "#4 Mean calculation\n",
    "thalach_hd_mean = np.mean(thalach_hd)\n",
    "thalach_no_hd_mean = np.mean(thalach_no_hd)\n",
    "mean_diff = thalach_hd_mean - thalach_no_hd_mean\n",
    "print(thalach_hd_mean, thalach_no_hd_mean, mean_diff)\n",
    "# Median calculation\n",
    "thatlach_hd_median = np.median(thalach_hd)\n",
    "thalach_no_hd_median = np.median(thalach_no_hd)\n",
    "median_diff = thatlach_hd_median - thalach_no_hd_median\n",
    "print(thatlach_hd_median, thalach_no_hd_median, median_diff)"
   ]
  },
  {
   "cell_type": "markdown",
   "id": "d0355de6",
   "metadata": {},
   "source": [
    "5. We’d like to find out if the average thalach of a heart disease patient is significantly different from the average thalach for a person without heart disease.\n",
    "\n",
    "  Test the following null and alternative hypotheses:\n",
    "\n",
    "* Null: The average thalach for a person with heart disease is equal to the average thalach for a person without heart disease.\n",
    "* Alternative: The average thalach for a person with heart disease is NOT equal to the average thalach for a person without heart disease.\n",
    "\n",
    "6. Run the hypothesis test from task 5 and print out the p-value. Using a significance threshold of 0.05, is there a significant difference in average thalach for people with heart disease compared to people with no heart disease?"
   ]
  },
  {
   "cell_type": "code",
   "execution_count": 9,
   "id": "cde74162",
   "metadata": {},
   "outputs": [
    {
     "name": "stdout",
     "output_type": "stream",
     "text": [
      "p-value equals: 3.456964908430172e-14 , which is < 0.05 meaning average thalach of a heart disease is significantly different from the average thalach for a person without heart disease.\n"
     ]
    }
   ],
   "source": [
    "#5,6 Significance test (Two sample T-Test)\n",
    "from scipy.stats import ttest_ind\n",
    "tstat, pval = ttest_ind(thalach_hd, thalach_no_hd)\n",
    "print(\"p-value equals: \" + str(pval) + \" , which is < 0.05 meaning average thalach of a heart disease is significantly different from the average thalach for a person without heart disease.\")\n"
   ]
  },
  {
   "cell_type": "markdown",
   "id": "3c5f9799",
   "metadata": {},
   "source": [
    "7. Using the same process, investigate trestbps (resting blood pressure). "
   ]
  },
  {
   "cell_type": "code",
   "execution_count": 10,
   "id": "8efd515d",
   "metadata": {},
   "outputs": [
    {
     "data": {
      "image/png": "[encoded data removed]",
      "text/plain": [
       "<Figure size 432x288 with 1 Axes>"
      ]
     },
     "metadata": {
      "needs_background": "light"
     },
     "output_type": "display_data"
    },
    {
     "name": "stdout",
     "output_type": "stream",
     "text": [
      "Visually it appears that heart disease presence does not associate with resting blood pressure number.\n",
      "134.568345323741 129.25 5.318345323740999\n",
      "130.0 130.0 0.0\n",
      "p-value equals: 0.008548268928594928 , which is < 0.05 meaning average trestbps of a heart disease is significantly different from the average trestbps for a person without heart disease. Which can not been seen visually of side-by-side boxplot.\n"
     ]
    },
    {
     "data": {
      "text/plain": [
       "<Figure size 432x288 with 0 Axes>"
      ]
     },
     "metadata": {},
     "output_type": "display_data"
    }
   ],
   "source": [
    "#7 Resting blood pressure (trestbps) analysis\n",
    "sns.boxplot(x='heart_disease', y='trestbps', data=heart)\n",
    "plt.xlabel('Heart Disease condition')\n",
    "plt.ylabel('Resting blood pressure')\n",
    "plt.title('Resting blood pressure vs Heart Disease')\n",
    "plt.show()\n",
    "plt.clf()\n",
    "\n",
    "print(\"Visually it appears that heart disease presence does not associate with resting blood pressure number.\")\n",
    "\n",
    "# Making dfs absence and presence \n",
    "yes_hd = heart[heart.heart_disease == 'presence']\n",
    "no_hd = heart[heart.heart_disease == 'absence']\n",
    "trestbps_hd = yes_hd.trestbps\n",
    "trestbps_no_hd = no_hd.trestbps\n",
    "\n",
    "# Mean calculation\n",
    "trestbps_hd_mean = np.mean(trestbps_hd)\n",
    "trestbps_no_hd_mean = np.mean(trestbps_no_hd)\n",
    "mean_diff_trest = trestbps_hd_mean - trestbps_no_hd_mean\n",
    "print(trestbps_hd_mean, trestbps_no_hd_mean, mean_diff_trest)\n",
    "# Median calculation\n",
    "trestbps_hd_median = np.median(trestbps_hd)\n",
    "trestbps_no_hd_median = np.median(trestbps_no_hd)\n",
    "median_diff_trest = trestbps_hd_median - trestbps_no_hd_median\n",
    "print(trestbps_hd_median, trestbps_no_hd_median, median_diff_trest)\n",
    "\n",
    "# Significance test (Two sample T-Test)\n",
    "from scipy.stats import ttest_ind\n",
    "tstat, pval_trest = ttest_ind(trestbps_hd, trestbps_no_hd)\n",
    "print(\"p-value equals: \" + str(pval_trest) + \" , which is < 0.05 meaning average trestbps of a heart disease is significantly different from the average trestbps for a person without heart disease. Which can not been seen visually of side-by-side boxplot.\")\n"
   ]
  },
  {
   "cell_type": "markdown",
   "id": "ed96503d",
   "metadata": {},
   "source": [
    "#### Chest Pain and Max Heart Rate\n",
    "8. Next, let’s investigate the relationship between thalach (maximum heart rate achieved during exercise) and the type of heart pain a person experiences. Create a set of side-by-side box plots of thalach for each chest pain type in the data. \n",
    "\n",
    "  Are there any chest pain types for which average thalach is significantly higher or lower (compared     to other chest pain types)?"
   ]
  },
  {
   "cell_type": "code",
   "execution_count": 11,
   "id": "78a6d2c0",
   "metadata": {},
   "outputs": [
    {
     "data": {
      "image/png": "[encoded data removed]",
      "text/plain": [
       "<Figure size 432x288 with 1 Axes>"
      ]
     },
     "metadata": {
      "needs_background": "light"
     },
     "output_type": "display_data"
    },
    {
     "name": "stdout",
     "output_type": "stream",
     "text": [
      "An asymptomatic chest pain is visually distinguished by a lower maximum heart rates during exercise.\n"
     ]
    },
    {
     "data": {
      "text/plain": [
       "<Figure size 432x288 with 0 Axes>"
      ]
     },
     "metadata": {},
     "output_type": "display_data"
    }
   ],
   "source": [
    "#8 Chest pains and max heart rate while exercising\n",
    "sns.boxplot(x='cp', y='thalach', data=heart)\n",
    "plt.xlabel('Chest pain type')\n",
    "plt.ylabel('Max heart rate while exercising')\n",
    "plt.title('Max heart rate vs Chest pain')\n",
    "plt.show()\n",
    "plt.clf()\n",
    "\n",
    "print(\"An asymptomatic chest pain is visually distinguished by a lower maximum heart rates during exercise.\")\n"
   ]
  },
  {
   "cell_type": "markdown",
   "id": "11948659",
   "metadata": {},
   "source": [
    "9. To investigate this further, save the values of thalach for patients who experienced each type of chest pain as thalach_typical, thalach_asymptom, thalach_nonangin, and thalach_atypical, respectively."
   ]
  },
  {
   "cell_type": "code",
   "execution_count": 12,
   "id": "a53d79d9",
   "metadata": {},
   "outputs": [],
   "source": [
    "#9 Dfs of thalach and chest pains\n",
    "thalach_typical = heart.thalach[heart.cp == 'typical angina']\n",
    "thalach_asymptom = heart.thalach[heart.cp == 'asymptomatic']\n",
    "thalach_nonangin = heart.thalach[heart.cp == 'non-anginal pain']\n",
    "thalach_atypical = heart.thalach[heart.cp == 'atypical angina']"
   ]
  },
  {
   "cell_type": "markdown",
   "id": "739edf6b",
   "metadata": {},
   "source": [
    "10. Run a single hypothesis test to address the following null and alternative hypotheses:\n",
    "\n",
    "* Null: People with typical angina, non-anginal pain, atypical angina, and asymptomatic people all       have the same average thalach.\n",
    "* Alternative: People with typical angina, non-anginal pain, atypical angina, and asymptomatic people     do not all have the same average thalach.\n",
    "  Using a significance threshold of 0.05, is there at least one pair of chest pain categories for         which people in those categories have significantly different thalach?"
   ]
  },
  {
   "cell_type": "code",
   "execution_count": 14,
   "id": "f284d5ba",
   "metadata": {},
   "outputs": [
    {
     "name": "stdout",
     "output_type": "stream",
     "text": [
      "1.9065505247705008e-10\n",
      "Since p-value is less than 0.05 we can say that there is a significant difference between at least one pair of chest pains\n"
     ]
    }
   ],
   "source": [
    "#10 Signifance test (ANOVA + Tukey test)\n",
    "# ANOVA test\n",
    "from scipy.stats import f_oneway\n",
    "fstat, pval_anova = f_oneway(thalach_typical, thalach_asymptom, thalach_nonangin, thalach_atypical)\n",
    "print(pval_anova)\n",
    "print(\"Since p-value is less than 0.05 we can say that there is a significant difference between at least one pair of chest pains\")\n"
   ]
  },
  {
   "cell_type": "markdown",
   "id": "56178dbe",
   "metadata": {},
   "source": [
    "11. Run another hypothesis test to determine which of those pairs are significantly different. Use an overall type I error rate of 0.05 for all six comparisons."
   ]
  },
  {
   "cell_type": "code",
   "execution_count": 15,
   "id": "84b0eedd",
   "metadata": {},
   "outputs": [
    {
     "name": "stdout",
     "output_type": "stream",
     "text": [
      "           Multiple Comparison of Means - Tukey HSD, FWER=0.05           \n",
      "=========================================================================\n",
      "     group1           group2      meandiff p-adj   lower    upper  reject\n",
      "-------------------------------------------------------------------------\n",
      "    asymptomatic  atypical angina  21.7394  0.001  12.7439  30.735   True\n",
      "    asymptomatic non-anginal pain  14.7264  0.001    7.258 22.1948   True\n",
      "    asymptomatic   typical angina   15.276 0.0081   2.9702 27.5817   True\n",
      " atypical angina non-anginal pain   -7.013 0.2481 -16.7591   2.733  False\n",
      " atypical angina   typical angina  -6.4635 0.6069 -20.2707  7.3438  False\n",
      "non-anginal pain   typical angina   0.5495    0.9  -12.315 13.4141  False\n",
      "-------------------------------------------------------------------------\n",
      "Null hypothesis is rejected for all pairs with asymptomatic pain. Meaning there is a significant difference in average thalach.\n"
     ]
    }
   ],
   "source": [
    "#11 Tukey range test\n",
    "from statsmodels.stats.multicomp import pairwise_tukeyhsd\n",
    "tukey_results = pairwise_tukeyhsd(heart.thalach, heart.cp, 0.05)\n",
    "print(tukey_results)\n",
    "print(\"Null hypothesis is rejected for all pairs with asymptomatic pain. Meaning there is a significant difference in average thalach.\")\n"
   ]
  },
  {
   "cell_type": "markdown",
   "id": "962aa07e",
   "metadata": {},
   "source": [
    "#### Heart Disease and Chest Pain\n",
    "12. Finally, let’s investigate the relationship between the kind of chest pain a person experiences and whether or not they have heart disease."
   ]
  },
  {
   "cell_type": "code",
   "execution_count": 16,
   "id": "c20573ea",
   "metadata": {},
   "outputs": [
    {
     "name": "stdout",
     "output_type": "stream",
     "text": [
      "heart_disease     absence  presence\n",
      "cp                                 \n",
      "asymptomatic           39       105\n",
      "atypical angina        41         9\n",
      "non-anginal pain       68        18\n",
      "typical angina         16         7\n"
     ]
    }
   ],
   "source": [
    "#12 Significance test (Chi-Square Test)\n",
    "# contingency table of chest pain and disease state\n",
    "Xtab = pd.crosstab(heart.cp, heart.heart_disease)\n",
    "print(Xtab)"
   ]
  },
  {
   "cell_type": "markdown",
   "id": "d0e9b4a1",
   "metadata": {},
   "source": [
    "13. Run a hypothesis test for the following null and alternative hypotheses:\n",
    "\n",
    "* Null: There is NOT an association between chest pain type and whether or not someone is diagnosed with heart disease.\n",
    "* Alternative: There is an association between chest pain type and whether or not someone is diagnosed with heart disease.\n",
    "Using a significance threshold of 0.05, is there a significant association between chest pain type and whether or not someone is diagnosed with heart disease?"
   ]
  },
  {
   "cell_type": "code",
   "execution_count": 17,
   "id": "a8e75bb7",
   "metadata": {},
   "outputs": [
    {
     "name": "stdout",
     "output_type": "stream",
     "text": [
      "1.2517106007837527e-17\n",
      "Since p-value is less than 0.05 we reject the null hypothesis and can conclude there is a statistically significant association between chest pain type and heart disease state.\n"
     ]
    }
   ],
   "source": [
    "#13 Chi-Square Test\n",
    "from scipy.stats import chi2_contingency\n",
    "chi2, pval_chi, dof, expected = chi2_contingency(Xtab)\n",
    "print(pval_chi)\n",
    "print(\"Since p-value is less than 0.05 we reject the null hypothesis and can conclude there is a statistically significant association between chest pain type and heart disease state.\")\n"
   ]
  },
  {
   "cell_type": "markdown",
   "id": "fccbb215",
   "metadata": {},
   "source": [
    "#### Heart Disease and Fasting Blood Sugar\n",
    "14. Fasting blood sugar (fbs) analysis. And hypothesis test for the following null and alternative hypotheses:\n",
    "* Null: There is NOT an association between fasting blood sugar and whether or not someone is diagnosed with heart disease.\n",
    "* Alternative: There is an association between fasting blood sugar and whether or not someone is diagnosed with heart disease.\n",
    "Using a significance threshold of 0.05, is there a significant association between fasting blood sugar and whether or not someone is diagnosed with heart disease?"
   ]
  },
  {
   "cell_type": "code",
   "execution_count": 19,
   "id": "c1a34ac1",
   "metadata": {},
   "outputs": [
    {
     "data": {
      "image/png": "[encoded data removed]",
      "text/plain": [
       "<Figure size 432x288 with 1 Axes>"
      ]
     },
     "metadata": {
      "needs_background": "light"
     },
     "output_type": "display_data"
    },
    {
     "name": "stdout",
     "output_type": "stream",
     "text": [
      "Visually there is no any association.\n",
      "heart_disease  absence  presence\n",
      "fbs                             \n",
      "0.0                141       117\n",
      "1.0                 23        22\n",
      "0.7812734067063785\n",
      "Since p-value is more than 0.05 we accept the null hypothesis and there is NOT an association between fasting blood sugar and whether or not someone is diagnosed with heart disease.\n"
     ]
    },
    {
     "data": {
      "text/plain": [
       "<Figure size 432x288 with 0 Axes>"
      ]
     },
     "metadata": {},
     "output_type": "display_data"
    }
   ],
   "source": [
    "#14 Fasting blood sugar (fbs) analysis\n",
    "sns.countplot(data=heart,x='fbs', hue='heart_disease')\n",
    "plt.xlabel('fbs > 120mg/dl 0:No; 1:Yes')\n",
    "plt.ylabel('Count')\n",
    "plt.title('Fasting blood sugar and Heart Disease')\n",
    "plt.show()\n",
    "plt.clf()\n",
    "\n",
    "print(\"Visually there is no any association.\")\n",
    "\n",
    "# contingency table\n",
    "fbs_table = pd.crosstab(heart.fbs, heart.heart_disease)\n",
    "print(fbs_table)\n",
    "# Chi-Square Test\n",
    "chi2, pval_fbs, dof, expected = chi2_contingency(fbs_table)\n",
    "print(pval_fbs)\n",
    "print(\"Since p-value is more than 0.05 we accept the null hypothesis and there is NOT an association between fasting blood sugar and whether or not someone is diagnosed with heart disease.\")\n",
    "\n"
   ]
  },
  {
   "cell_type": "code",
   "execution_count": null,
   "id": "00f4df16",
   "metadata": {},
   "outputs": [],
   "source": []
  }
 ],
 "metadata": {
  "kernelspec": {
   "display_name": "Python 3 (ipykernel)",
   "language": "python",
   "name": "python3"
  },
  "language_info": {
   "codemirror_mode": {
    "name": "ipython",
    "version": 3
   },
   "file_extension": ".py",
   "mimetype": "text/x-python",
   "name": "python",
   "nbconvert_exporter": "python",
   "pygments_lexer": "ipython3",
   "version": "3.9.7"
  }
 },
 "nbformat": 4,
 "nbformat_minor": 5
}
